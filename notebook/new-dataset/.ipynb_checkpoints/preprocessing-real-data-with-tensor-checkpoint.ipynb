{
 "cells": [
  {
   "cell_type": "markdown",
   "id": "95af64ec",
   "metadata": {},
   "source": [
    "# Feature Engineering Real Data with Tensor\n",
    "\n",
    "This notebook illustrates the process of preprocessing using Tensor.\n",
    "\n",
    "Notes for Machine Learning Data Lifecycle in Production (includes tutorial especially for Feature Engineering and Data Preprocessing): https://www.notion.so/Machine-Learning-Data-Lifecycle-in-Production-24a86007ad474a02b47dd54bef682ce5"
   ]
  },
  {
   "cell_type": "markdown",
   "id": "a9f1a21c",
   "metadata": {},
   "source": [
    "# Import"
   ]
  },
  {
   "cell_type": "code",
   "execution_count": 4,
   "id": "ed40df4d",
   "metadata": {},
   "outputs": [
    {
     "name": "stdout",
     "output_type": "stream",
     "text": [
      "TFX version: 0.24.0\n",
      "Tensorflow version: 2.3.1\n"
     ]
    }
   ],
   "source": [
    "# For tfx installation\n",
    "# !pip install tfx==0.24.0\n",
    "\n",
    "# Imports\n",
    "import pprint\n",
    "import tempfile\n",
    "import urllib\n",
    "import pandas as pd\n",
    "import numpy as np\n",
    "\n",
    "import absl\n",
    "import tensorflow as tf\n",
    "tf.get_logger().propagate = False\n",
    "pp = pprint.PrettyPrinter()\n",
    "\n",
    "import tfx\n",
    "from tfx.components import CsvExampleGen\n",
    "from tfx.components import ExampleValidator\n",
    "from tfx.components import SchemaGen\n",
    "from tfx.components import StatisticsGen\n",
    "from tfx.orchestration.experimental.interactive.interactive_context import InteractiveContext\n",
    "from tfx.types import Channel\n",
    "from tfx.utils.dsl_utils import external_input\n",
    "from tfx.components.transform.component import Transform\n",
    "\n",
    "from google.protobuf.json_format import MessageToDict\n",
    "\n",
    "print(f'TFX version: {tfx.__version__}')\n",
    "print(f'Tensorflow version: {tf.__version__}')"
   ]
  },
  {
   "cell_type": "markdown",
   "id": "c441c20d",
   "metadata": {},
   "source": [
    "# Setup dataset and directories"
   ]
  },
  {
   "cell_type": "code",
   "execution_count": 5,
   "id": "fb0dfb0f",
   "metadata": {},
   "outputs": [],
   "source": [
    "# Uncomment to create pipeline directory\n",
    "# !mkdir pipeline\n",
    "\n",
    "# Location of the pipeline metadata store\n",
    "_pipeline_root = './pipeline/'\n",
    "\n",
    "# Directory of the raw data files\n",
    "_data_root = '../../datasets/real'\n",
    "\n",
    "# Path to the raw training data\n",
    "_data_filepath = os.path.join(_data_root, 'export-reec56.BEWACO 2021.csv')"
   ]
  },
  {
   "cell_type": "code",
   "execution_count": 7,
   "id": "d5a8f4a3",
   "metadata": {},
   "outputs": [
    {
     "name": "stderr",
     "output_type": "stream",
     "text": [
      "'head' is not recognized as an internal or external command,\n",
      "operable program or batch file.\n"
     ]
    }
   ],
   "source": [
    "# Preview the dataset\n",
    "!head {_data_filepath}"
   ]
  },
  {
   "cell_type": "code",
   "execution_count": null,
   "id": "3aa67ed7",
   "metadata": {},
   "outputs": [],
   "source": []
  }
 ],
 "metadata": {
  "kernelspec": {
   "display_name": "Python 3",
   "language": "python",
   "name": "python3"
  },
  "language_info": {
   "codemirror_mode": {
    "name": "ipython",
    "version": 3
   },
   "file_extension": ".py",
   "mimetype": "text/x-python",
   "name": "python",
   "nbconvert_exporter": "python",
   "pygments_lexer": "ipython3",
   "version": "3.8.8"
  }
 },
 "nbformat": 4,
 "nbformat_minor": 5
}
