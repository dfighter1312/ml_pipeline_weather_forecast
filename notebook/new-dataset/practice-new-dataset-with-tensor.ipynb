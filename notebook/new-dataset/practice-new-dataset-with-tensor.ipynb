{
 "cells": [
  {
   "cell_type": "code",
   "execution_count": 1,
   "id": "ff5b9008",
   "metadata": {},
   "outputs": [
    {
     "name": "stdout",
     "output_type": "stream",
     "text": [
      "TFX version: 0.24.0\n",
      "Tensorflow version: 2.3.1\n"
     ]
    }
   ],
   "source": [
    "# For tfx installation\n",
    "# !pip install tfx==0.24.0\n",
    "\n",
    "# Import packages\n",
    "import os\n",
    "import pandas as pd\n",
    "import numpy as np\n",
    "import tempfile, urllib, zipfile\n",
    "import pprint\n",
    "import tempfile\n",
    "import urllib\n",
    "import tensorflow_data_validation as tfdv\n",
    "\n",
    "import absl\n",
    "import tensorflow as tf\n",
    "tf.get_logger().propagate = False\n",
    "pp = pprint.PrettyPrinter()\n",
    "\n",
    "from tensorflow.python.lib.io import file_io\n",
    "from tensorflow_data_validation.utils import slicing_util\n",
    "from tensorflow_metadata.proto.v0.statistics_pb2 import DatasetFeatureStatisticsList, DatasetFeatureStatistics\n",
    "\n",
    "import tfx\n",
    "from tfx.components import CsvExampleGen\n",
    "from tfx.components import ExampleValidator\n",
    "from tfx.components import SchemaGen\n",
    "from tfx.components import StatisticsGen\n",
    "from tfx.orchestration.experimental.interactive.interactive_context import InteractiveContext\n",
    "from tfx.types import Channel\n",
    "from tfx.utils.dsl_utils import external_input\n",
    "from tfx.components.transform.component import Transform\n",
    "\n",
    "from google.protobuf.json_format import MessageToDict\n",
    "\n",
    "print(f'TFX version: {tfx.__version__}')\n",
    "print(f'Tensorflow version: {tf.__version__}')\n",
    "\n",
    "# Set TF's logger to only display errors to avoid internal warnings being shown\n",
    "tf.get_logger().setLevel('ERROR')"
   ]
  },
  {
   "cell_type": "markdown",
   "id": "d221abdb",
   "metadata": {},
   "source": [
    "# Implement preprocessing with Pandas"
   ]
  },
  {
   "cell_type": "code",
   "execution_count": null,
   "id": "be5c27d2",
   "metadata": {},
   "outputs": [],
   "source": []
  }
 ],
 "metadata": {
  "kernelspec": {
   "display_name": "Python 3",
   "language": "python",
   "name": "python3"
  },
  "language_info": {
   "codemirror_mode": {
    "name": "ipython",
    "version": 3
   },
   "file_extension": ".py",
   "mimetype": "text/x-python",
   "name": "python",
   "nbconvert_exporter": "python",
   "pygments_lexer": "ipython3",
   "version": "3.8.8"
  }
 },
 "nbformat": 4,
 "nbformat_minor": 5
}
